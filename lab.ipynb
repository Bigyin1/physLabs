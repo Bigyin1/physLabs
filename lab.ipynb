{
 "cells": [
  {
   "cell_type": "code",
   "execution_count": null,
   "metadata": {},
   "outputs": [],
   "source": [
    "%pip install pint\n",
    "%pip install pint_pandas\n",
    "%pip install openpyxl\n",
    "%pip install matplotlib\n",
    "%pip install numpy"
   ]
  },
  {
   "cell_type": "code",
   "execution_count": 1,
   "metadata": {},
   "outputs": [],
   "source": [
    "import matplotlib.pyplot as plt\n",
    "import numpy as np\n",
    "\n",
    "import pint\n",
    "import pint_pandas\n",
    "\n",
    "import pandas as pd\n",
    "\n",
    "pd.options.mode.copy_on_write = True\n",
    "\n",
    "\n",
    "class LabCtx:\n",
    "    _ureg = pint.UnitRegistry()\n",
    "    _Q = _ureg.Quantity\n",
    "    pint_pandas.PintType.ureg = _ureg\n",
    "\n",
    "    _ureg.enable_contexts(\"Gaussian\")\n",
    "    \n",
    "\n",
    "    def __init__(self, exelPath: str) -> None:\n",
    "        self._labData = pd.read_excel(exelPath, sheet_name=None, header=[0, 1])\n",
    "\n",
    "    def _getTable(self, name: str) -> pd.DataFrame:\n",
    "        return self._labData[name].pint.quantify(level=-1)\n",
    "\n",
    "    def _toLatexFormat(self):\n",
    "        self._ureg.default_format = \"Lx\"\n",
    "\n",
    "    def _toDefaultFormat(self):\n",
    "        self._ureg.default_format = \"P\"\n",
    "\n",
    "\n",
    "Q = LabCtx._Q\n",
    "\n",
    "UR = LabCtx._ureg\n",
    "\n",
    "\n",
    "def q_for_eval(magnitude, unit=None):\n",
    "    return Q(magnitude, unit)\n",
    "\n",
    "\n",
    "class LabTable:\n",
    "    def __init__(\n",
    "        self, ctx: LabCtx, name: str = \"\", table: pd.DataFrame = pd.DataFrame(data={})\n",
    "    ) -> None:\n",
    "\n",
    "        self.ctx = ctx\n",
    "\n",
    "        if not table.empty:\n",
    "            self._table = table\n",
    "            return\n",
    "\n",
    "        self._table = self.ctx._getTable(name)\n",
    "\n",
    "    def toLatex(\n",
    "        self, file: str, columnsRen={}, caption=\"\", float_format=\"%.2f\", toStdout=False\n",
    "    ) -> None:\n",
    "        self.ctx._toLatexFormat()\n",
    "\n",
    "        self._table.rename(columns=columnsRen).pint.dequantify().to_latex(\n",
    "            file,\n",
    "            index=False,\n",
    "            caption=caption,\n",
    "            position=\"H\",\n",
    "            float_format=float_format,\n",
    "        )\n",
    "\n",
    "        self.ctx._toDefaultFormat()\n",
    "\n",
    "        if toStdout:\n",
    "            print(self._table.rename(columns=columnsRen).pint.dequantify())\n",
    "\n",
    "    def setColUnits(self, col: str, u: pint.Unit | str):\n",
    "        self._table[col] = self._table[col].pint.to(u)\n",
    "        return self\n",
    "\n",
    "    def getColUnits(self, col: str) -> pint.Unit:\n",
    "        return self._table[col].pint.units\n",
    "\n",
    "    def addCol(self, col: str, data: pd.Series) -> None:\n",
    "        self._table[col] = data\n",
    "\n",
    "    def col(self, col: str) -> pd.Series:\n",
    "        return self._table[col]\n",
    "\n",
    "    def colQuantity(self, col: str) -> pint.Quantity:\n",
    "        return self._table[col].values.quantity\n",
    "\n",
    "    def colRaw(self, col: str) -> list[float]:\n",
    "        return self._table[col].values.quantity.magnitude\n",
    "\n",
    "    def query(self, q: str):\n",
    "        return LabTable(self.ctx, table=self._table.query(q))\n",
    "\n",
    "    def printPretty(self):\n",
    "        print(self._table)\n",
    "\n",
    "\n",
    "class LabPlot:\n",
    "    def __init__(self, file: str, xlbl: str, ylbl: str) -> None:\n",
    "        self.file = file\n",
    "\n",
    "        self.xlbl = xlbl\n",
    "        self.ylbl = ylbl\n",
    "\n",
    "    def __enter__(self):\n",
    "        self.fig, self.axis = plt.subplots(figsize=(12, 10), dpi=100)\n",
    "        self.axis.grid(True)\n",
    "\n",
    "        self.axis.set_xlabel(self.xlbl, fontsize=20)\n",
    "        self.axis.set_ylabel(self.ylbl, fontsize=20)\n",
    "\n",
    "        return self\n",
    "\n",
    "    def __exit__(self, exc_type, exc_val, exc_tb):\n",
    "        self.axis.legend()\n",
    "        self.fig.savefig(self.file)\n",
    "\n",
    "\n",
    "def plotMNK(ax: plt.Axes, x_units, y_units, name, scatter=False, prec=5) -> list:\n",
    "    x = x_units\n",
    "    y = y_units\n",
    "\n",
    "    fit, pcov = np.polyfit(x, y, 1, full=False, cov=True)\n",
    "    perr = np.sqrt(np.diag(pcov))\n",
    "    poly = np.poly1d(fit)\n",
    "\n",
    "    x = np.linspace(min(x), max(x), 50)\n",
    "    ax.plot(\n",
    "        x,\n",
    "        poly(x),\n",
    "        label=f\"{name}: ${fit[0]:.{prec}f}\\pm{perr[0]:.{prec}f}$\",\n",
    "    )\n",
    "\n",
    "    if scatter:\n",
    "        ax.scatter(x_units, y_units)\n",
    "\n",
    "    return fit"
   ]
  },
  {
   "cell_type": "code",
   "execution_count": null,
   "metadata": {},
   "outputs": [],
   "source": [
    "labCtx = LabCtx(\"lab4.3.1.xlsx\")"
   ]
  },
  {
   "cell_type": "code",
   "execution_count": null,
   "metadata": {},
   "outputs": [],
   "source": [
    "tbl1 = LabTable(labCtx, \"1\")"
   ]
  },
  {
   "cell_type": "code",
   "execution_count": null,
   "metadata": {},
   "outputs": [],
   "source": [
    "tbl1.printPretty()"
   ]
  },
  {
   "cell_type": "code",
   "execution_count": null,
   "metadata": {},
   "outputs": [],
   "source": [
    "tbl1.addCol(\"m\", tbl1.col(\"n\") + 1)\n",
    "\n",
    "tbl1.addCol(\"2E\", 2 * (tbl1.col(\"m\") * tbl1.col(\"z\") * Q(\"546 nm\")) ** (1 / 2))\n",
    "\n",
    "tbl1.setColUnits(\"2E\", \"mm\")"
   ]
  },
  {
   "cell_type": "code",
   "execution_count": null,
   "metadata": {},
   "outputs": [],
   "source": [
    "tbl1.toLatex(\n",
    "    \"tex/tables/1.tex\",\n",
    "    {\"2E\": r\"$2\\xi$\"},\n",
    "    float_format=\"%.2f\",\n",
    ")"
   ]
  },
  {
   "cell_type": "code",
   "execution_count": null,
   "metadata": {},
   "outputs": [],
   "source": [
    "tbl2 = LabTable(labCtx, \"2\")"
   ]
  },
  {
   "cell_type": "code",
   "execution_count": null,
   "metadata": {},
   "outputs": [],
   "source": [
    "tbl2.toLatex(\n",
    "    \"tex/tables/2.tex\",\n",
    "    float_format=\"%.2f\",\n",
    ")"
   ]
  },
  {
   "cell_type": "code",
   "execution_count": null,
   "metadata": {},
   "outputs": [],
   "source": [
    "with LabPlot(\"tex/pictures/2.png\", r\"n\", r\"$x, mm$\") as plot:\n",
    "\n",
    "    plotMNK(\n",
    "        plot.axis,\n",
    "        tbl2.colRaw(\"n\"),\n",
    "        tbl2.colRaw(\"x\"),\n",
    "        \"k:\",\n",
    "        scatter=True,\n",
    "    )\n",
    "    plt.close()"
   ]
  },
  {
   "cell_type": "code",
   "execution_count": null,
   "metadata": {},
   "outputs": [],
   "source": [
    "k = Q(\"0.26 mm\")\n",
    "lamb = Q(\"546 nm\")\n",
    "f2 = Q(\"10.8 cm\")\n",
    "\n",
    "b = (lamb / k) * f2\n",
    "\n",
    "b.to(\"mm\")"
   ]
  },
  {
   "cell_type": "code",
   "execution_count": null,
   "metadata": {},
   "outputs": [],
   "source": [
    "dx = Q(\"33.5  micrometer\")\n",
    "\n",
    "d = f2 * lamb / dx\n",
    "d.to(\"mm\")\n",
    "\n",
    "(2 * d / 10).to(\"mm\")"
   ]
  },
  {
   "cell_type": "code",
   "execution_count": null,
   "metadata": {},
   "outputs": [],
   "source": [
    "tbl1.addCol(\"D\", tbl1.col(\"high\") - tbl1.col(\"low\"))"
   ]
  },
  {
   "cell_type": "code",
   "execution_count": null,
   "metadata": {},
   "outputs": [],
   "source": [
    "tbl1.toLatex(\n",
    "    \"tex/tables/green.tex\",\n",
    "    {\"low\": r\"$d_\\text{низ}$\", \"high\": r\"$d_\\text{верх}$\"},\n",
    "    float_format=\"%.3f\",\n",
    ")"
   ]
  },
  {
   "cell_type": "code",
   "execution_count": null,
   "metadata": {},
   "outputs": [],
   "source": [
    "with LabPlot(\"tex/pictures/green.png\", r\"n\", r\"$D^2$\") as plot:\n",
    "\n",
    "    plotMNK(\n",
    "        plot.axis,\n",
    "        tbl1.colRaw(\"n\"),\n",
    "        np.power(tbl1.colRaw(\"D\"), 2),\n",
    "        \":\",\n",
    "        scatter=True,\n",
    "    )\n",
    "    plt.close()"
   ]
  },
  {
   "cell_type": "code",
   "execution_count": null,
   "metadata": {},
   "outputs": [],
   "source": [
    "tbl2 = LabTable(labCtx, \"rty\")\n",
    "tbl2.addCol(\"D1\", tbl2.col(\"high1\") - tbl2.col(\"low1\"))\n",
    "tbl2.addCol(\"D2\", tbl2.col(\"high2\") - tbl2.col(\"low2\"))"
   ]
  },
  {
   "cell_type": "code",
   "execution_count": null,
   "metadata": {},
   "outputs": [],
   "source": [
    "tbl2.toLatex(\n",
    "    \"tex/tables/rtyellow.tex\",\n",
    "    {\n",
    "        \"low1\": r\"$d_\\text{низ}$\",\n",
    "        \"high1\": r\"$d1_\\text{верх}$\",\n",
    "        \"low2\": r\"$d2_\\text{низ}$\",\n",
    "        \"high2\": r\"$d2_\\text{верх}$\",\n",
    "    },\n",
    "    float_format=\"%.3f\",\n",
    ")"
   ]
  },
  {
   "cell_type": "code",
   "execution_count": null,
   "metadata": {},
   "outputs": [],
   "source": [
    "with LabPlot(\"tex/pictures/rtyellow.png\", r\"n\", r\"$D_1^2 + D_2^2$\") as plot:\n",
    "\n",
    "    plotMNK(\n",
    "        plot.axis,\n",
    "        tbl2.colRaw(\"n\"),\n",
    "        np.power(tbl2.colRaw(\"D1\"), 2) + np.power(tbl2.colRaw(\"D2\"), 2),\n",
    "        \":\",\n",
    "        scatter=True,\n",
    "    )\n",
    "    plt.close()"
   ]
  },
  {
   "cell_type": "code",
   "execution_count": null,
   "metadata": {},
   "outputs": [],
   "source": [
    "L = Q(0.12, \"mm\")\n",
    "\n",
    "f = Q(110, \"mm\")\n",
    "\n",
    "k = Q(460.0, \"mm^2\")\n",
    "\n",
    "\n",
    "(L * k / (8 * f**2)).to(\"nm\")"
   ]
  },
  {
   "cell_type": "code",
   "execution_count": null,
   "metadata": {},
   "outputs": [],
   "source": [
    "with LabPlot(\"tex/pictures/rtyellow2.png\", r\"n\", r\"$D_1^2 - D_2^2$\") as plot:\n",
    "\n",
    "    plotMNK(\n",
    "        plot.axis,\n",
    "        tbl2.colRaw(\"n\")[1:],\n",
    "        (np.power(tbl2.colRaw(\"D1\"), 2) - np.power(tbl2.colRaw(\"D2\"), 2))[1:],\n",
    "        \":\",\n",
    "        scatter=True,\n",
    "    )\n",
    "    plt.close()"
   ]
  },
  {
   "cell_type": "code",
   "execution_count": null,
   "metadata": {},
   "outputs": [],
   "source": [
    "k = Q(2.0, \"mm^2\")\n",
    "\n",
    "(L * k / (4 * f**2)).to(\"nm\")"
   ]
  },
  {
   "cell_type": "code",
   "execution_count": null,
   "metadata": {},
   "outputs": [],
   "source": [
    "tbl3 = LabTable(labCtx, \"ny\")\n",
    "tbl3.addCol(\"D1\", tbl3.col(\"high1\") - tbl3.col(\"low1\"))\n",
    "tbl3.addCol(\"D2\", tbl3.col(\"high2\") - tbl3.col(\"low2\"))"
   ]
  },
  {
   "cell_type": "code",
   "execution_count": null,
   "metadata": {},
   "outputs": [],
   "source": [
    "tbl3.toLatex(\n",
    "    \"tex/tables/nyellow.tex\",\n",
    "    {\n",
    "        \"low1\": r\"$d_\\text{низ}$\",\n",
    "        \"high1\": r\"$d1_\\text{верх}$\",\n",
    "        \"low2\": r\"$d2_\\text{низ}$\",\n",
    "        \"high2\": r\"$d2_\\text{верх}$\",\n",
    "    },\n",
    "    float_format=\"%.3f\",\n",
    ")"
   ]
  },
  {
   "cell_type": "code",
   "execution_count": null,
   "metadata": {},
   "outputs": [],
   "source": [
    "with LabPlot(\"tex/pictures/nyellow.png\", r\"n\", r\"$D_1^2 + D_2^2$\") as plot:\n",
    "\n",
    "    plotMNK(\n",
    "        plot.axis,\n",
    "        tbl3.colRaw(\"n\"),\n",
    "        np.power(tbl3.colRaw(\"D1\"), 2) + np.power(tbl3.colRaw(\"D2\"), 2),\n",
    "        \":\",\n",
    "        scatter=True,\n",
    "    )\n",
    "    plt.close()"
   ]
  },
  {
   "cell_type": "code",
   "execution_count": null,
   "metadata": {},
   "outputs": [],
   "source": [
    "L = Q(0.12, \"mm\")\n",
    "\n",
    "f = Q(110, \"mm\")\n",
    "\n",
    "k = Q(443.0, \"mm^2\")\n",
    "\n",
    "\n",
    "(L * k / (8 * f**2)).to(\"nm\")"
   ]
  },
  {
   "cell_type": "code",
   "execution_count": null,
   "metadata": {},
   "outputs": [],
   "source": [
    "with LabPlot(\"tex/pictures/nyellow2.png\", r\"n\", r\"$D_1^2 - D_2^2$\") as plot:\n",
    "\n",
    "    plotMNK(\n",
    "        plot.axis,\n",
    "        tbl3.colRaw(\"n\"),\n",
    "        (np.power(tbl3.colRaw(\"D1\"), 2) - np.power(tbl3.colRaw(\"D2\"), 2)),\n",
    "        \":\",\n",
    "        scatter=True,\n",
    "    )\n",
    "    plt.close()"
   ]
  },
  {
   "cell_type": "code",
   "execution_count": null,
   "metadata": {},
   "outputs": [],
   "source": [
    "k = Q(1.35, \"mm^2\")\n",
    "\n",
    "(L * k / (4 * f**2)).to(\"nm\")"
   ]
  },
  {
   "cell_type": "code",
   "execution_count": null,
   "metadata": {},
   "outputs": [],
   "source": [
    "r = (177.215 - 170.425) / 2\n",
    "\n",
    "deg1 = r / 110"
   ]
  }
 ],
 "metadata": {
  "kernelspec": {
   "display_name": "Python 3 (ipykernel)",
   "language": "python",
   "name": "python3"
  },
  "language_info": {
   "codemirror_mode": {
    "name": "ipython",
    "version": 3
   },
   "file_extension": ".py",
   "mimetype": "text/x-python",
   "name": "python",
   "nbconvert_exporter": "python",
   "pygments_lexer": "ipython3",
   "version": "3.11.0rc1"
  },
  "vscode": {
   "interpreter": {
    "hash": "7e1998ff7f8aa20ada591c520b972326324e5ea05489af9e422744c7c09f6dad"
   }
  }
 },
 "nbformat": 4,
 "nbformat_minor": 4
}
