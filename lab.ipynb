{
 "cells": [
  {
   "cell_type": "code",
   "execution_count": 45,
   "metadata": {},
   "outputs": [],
   "source": [
    "import matplotlib.pyplot as plt\n",
    "import numpy as np\n",
    "\n",
    "import pint\n",
    "import pint_pandas\n",
    "\n",
    "import pandas as pd\n",
    "\n",
    "pd.options.mode.copy_on_write = True\n",
    "\n",
    "\n",
    "class LabCtx:\n",
    "    _ureg = pint.UnitRegistry(autoconvert_offset_to_baseunit=True)\n",
    "    _Q = _ureg.Quantity\n",
    "    pint_pandas.PintType.ureg = _ureg\n",
    "\n",
    "    _ureg.enable_contexts(\"Gaussian\")\n",
    "\n",
    "    def __init__(self, exelPath: str) -> None:\n",
    "        self._labData = pd.read_excel(exelPath, sheet_name=None, header=[0, 1])\n",
    "\n",
    "    def _getTable(self, name: str) -> pd.DataFrame:\n",
    "        return self._labData[name].pint.quantify(level=-1)\n",
    "\n",
    "    def _toLatexFormat(self):\n",
    "        self._ureg.default_format = \"Lx\"\n",
    "\n",
    "    def _toDefaultFormat(self):\n",
    "        self._ureg.default_format = \"P\"\n",
    "\n",
    "\n",
    "Q = LabCtx._Q\n",
    "\n",
    "UR = LabCtx._ureg\n",
    "\n",
    "\n",
    "def q_for_eval(magnitude, unit=None):\n",
    "    return Q(magnitude, unit)\n",
    "\n",
    "\n",
    "class LabTable:\n",
    "    def __init__(\n",
    "        self, ctx: LabCtx, name: str = \"\", table: pd.DataFrame = pd.DataFrame(data={})\n",
    "    ) -> None:\n",
    "\n",
    "        self.ctx = ctx\n",
    "\n",
    "        if not table.empty:\n",
    "            self._table = table\n",
    "            return\n",
    "\n",
    "        self._table = self.ctx._getTable(name)\n",
    "\n",
    "    def toLatex(\n",
    "        self,\n",
    "        file: str,\n",
    "        columnsRen: dict = {},\n",
    "        caption=\"\",\n",
    "        float_format=\"%.2f\",\n",
    "        toStdout=False,\n",
    "    ) -> None:\n",
    "        self.ctx._toLatexFormat()\n",
    "\n",
    "        ltbl = self._table[list(columnsRen.keys())]\n",
    "\n",
    "        ltbl.rename(columns=columnsRen).pint.dequantify().to_latex(\n",
    "            file,\n",
    "            index=False,\n",
    "            caption=caption,\n",
    "            position=\"H\",\n",
    "            float_format=float_format,\n",
    "        )\n",
    "\n",
    "        self.ctx._toDefaultFormat()\n",
    "\n",
    "        if toStdout:\n",
    "            print(ltbl.rename(columns=columnsRen).pint.dequantify())\n",
    "\n",
    "    def setColUnits(self, col: str, u: pint.Unit | str):\n",
    "        self._table[col] = self._table[col].pint.to(u)\n",
    "        return self\n",
    "\n",
    "    def getColUnits(self, col: str) -> pint.Unit:\n",
    "        return self._table[col].pint.units\n",
    "\n",
    "    def addCol(self, col: str, data: pd.Series) -> None:\n",
    "        self._table[col] = data\n",
    "\n",
    "    def col(self, col: str) -> pd.Series:\n",
    "        return self._table[col]\n",
    "\n",
    "    def colQuantity(self, col: str) -> pint.Quantity:\n",
    "        return self._table[col].values.quantity\n",
    "\n",
    "    def colRaw(self, col: str) -> list:\n",
    "        return self._table[col].values.quantity.magnitude\n",
    "\n",
    "    def query(self, q: str):\n",
    "        return LabTable(self.ctx, table=self._table.query(q))\n",
    "\n",
    "    def transmuteArrayCol(self, col: str, ncol: str, func):\n",
    "        res = []\n",
    "        cols = self.colRaw(col)\n",
    "\n",
    "        for i in range(len(cols)):\n",
    "            arr = np.fromstring(cols[i], sep=\" \")\n",
    "            res.append(func(arr))\n",
    "\n",
    "        self.addCol(ncol, pd.Series(res, dtype=f\"pint[{str(self.getColUnits(col))}]\"))\n",
    "\n",
    "    def printPretty(self):\n",
    "        print(self._table)\n",
    "\n",
    "\n",
    "class LabPlot:\n",
    "    def __init__(self, file: str, xlbl: str, ylbl: str) -> None:\n",
    "        self.file = file\n",
    "\n",
    "        self.xlbl = xlbl\n",
    "        self.ylbl = ylbl\n",
    "\n",
    "    def __enter__(self):\n",
    "        self.fig, self.axis = plt.subplots(figsize=(12, 10), dpi=100)\n",
    "        self.axis.grid(True)\n",
    "\n",
    "        self.axis.set_xlabel(self.xlbl, fontsize=20)\n",
    "        self.axis.set_ylabel(self.ylbl, fontsize=20)\n",
    "\n",
    "        return self\n",
    "\n",
    "    def __exit__(self, exc_type, exc_val, exc_tb):\n",
    "        self.axis.legend()\n",
    "        self.fig.savefig(self.file)\n",
    "\n",
    "\n",
    "def plotPolyfitWeights(\n",
    "    ax,\n",
    "    x,\n",
    "    y,\n",
    "    sigma,\n",
    "    name: str,\n",
    "    scatter=True,\n",
    "    prec=5,\n",
    "):\n",
    "\n",
    "    fit, pcov = np.polyfit(x, y, 1, w=(1 / sigma), full=False, cov=True)\n",
    "    perr = np.sqrt(np.diag(pcov))\n",
    "    poly = np.poly1d(fit)\n",
    "\n",
    "    xsp = np.linspace(min(x), max(x), 50)\n",
    "    ax.plot(\n",
    "        xsp,\n",
    "        poly(xsp),\n",
    "        label=f\"{name}: ${fit[0]:.{prec}f}\\\\pm{perr[0]:.{prec}f} + {fit[1]:.{prec}f}\\\\pm{perr[1]:.{prec}f}$\",\n",
    "    )\n",
    "\n",
    "    if scatter:\n",
    "        ax.errorbar(x, y, xerr=sigma, fmt=\"o\")\n",
    "\n",
    "\n",
    "def plotMNK(ax, x_units, y_units, name, scatter=False, prec=5) -> list:\n",
    "    x = x_units\n",
    "    y = y_units\n",
    "\n",
    "    fit, pcov = np.polyfit(x, y, 1, full=False, cov=True)\n",
    "    perr = np.sqrt(np.diag(pcov))\n",
    "    poly = np.poly1d(fit)\n",
    "\n",
    "    x = np.linspace(min(x), max(x), 50)\n",
    "    ax.plot(\n",
    "        x,\n",
    "        poly(x),\n",
    "        label=f\"{name}: ${fit[0]:.{prec}f}\\\\pm{perr[0]:.{prec}f}$\",\n",
    "    )\n",
    "\n",
    "    if scatter:\n",
    "        ax.scatter(x_units, y_units)\n",
    "\n",
    "    return fit"
   ]
  },
  {
   "cell_type": "code",
   "execution_count": 2,
   "metadata": {},
   "outputs": [],
   "source": [
    "labCtx = LabCtx(\"lab8.1.xlsx\")"
   ]
  },
  {
   "cell_type": "code",
   "execution_count": 3,
   "metadata": {},
   "outputs": [],
   "source": [
    "table1 = LabTable(labCtx, name=\"1\")"
   ]
  },
  {
   "cell_type": "code",
   "execution_count": null,
   "metadata": {},
   "outputs": [],
   "source": [
    "table1.printPretty()"
   ]
  },
  {
   "cell_type": "code",
   "execution_count": null,
   "metadata": {},
   "outputs": [],
   "source": [
    "table1.addCol(\"W\", table1.col(\"I\") * table1.col(\"U\"))\n",
    "table1.setColUnits(\"W\", \"watt\")"
   ]
  },
  {
   "cell_type": "code",
   "execution_count": 6,
   "metadata": {},
   "outputs": [],
   "source": [
    "table1.transmuteArrayCol(\"T\", \"Tmean\", np.mean)\n",
    "\n",
    "table1.transmuteArrayCol(\"T\", \"Tsigma\", np.std)"
   ]
  },
  {
   "cell_type": "code",
   "execution_count": 7,
   "metadata": {},
   "outputs": [],
   "source": [
    "table1.addCol(\"Tt\", 1.05 * table1.col(\"Tmean\"))"
   ]
  },
  {
   "cell_type": "code",
   "execution_count": null,
   "metadata": {},
   "outputs": [],
   "source": [
    "table1.toLatex(\n",
    "    \"tex/tables/t1.tex\",\n",
    "    {\n",
    "        \"I\": r\"$I$\",\n",
    "        \"U\": r\"$U$\",\n",
    "        \"W\": r\"$W$\",\n",
    "        \"Tmean\": r\"$T_\\text{light}$\",\n",
    "        \"Tsigma\": r\"$\\sigma_t$\",\n",
    "        \"Tt\": r\"$T$\",\n",
    "    },\n",
    "    float_format=\"%.2f\",\n",
    ")"
   ]
  },
  {
   "cell_type": "code",
   "execution_count": null,
   "metadata": {},
   "outputs": [],
   "source": [
    "with LabPlot(\"tex/pictures/1.png\", \"T, C\", \"W, Вт\") as plot:\n",
    "\n",
    "    plot.axis.errorbar(\n",
    "        table1.colRaw(\"Tt\"),\n",
    "        table1.colRaw(\"W\"),\n",
    "        xerr=table1.colRaw(\"Tsigma\"),\n",
    "        fmt=\"o\",\n",
    "    )"
   ]
  },
  {
   "cell_type": "code",
   "execution_count": null,
   "metadata": {},
   "outputs": [],
   "source": [
    "with LabPlot(\"tex/pictures/2.png\", \"lnT\", \"lnW\") as plot:\n",
    "\n",
    "    plotPolyfitWeights(\n",
    "        plot.axis,\n",
    "        np.log(table1.colRaw(\"Tt\")),\n",
    "        np.log(table1.colRaw(\"W\")),\n",
    "        np.log(table1.colRaw(\"Tsigma\")) / 100,\n",
    "        \"T log\",\n",
    "    )"
   ]
  },
  {
   "cell_type": "code",
   "execution_count": 44,
   "metadata": {},
   "outputs": [
    {
     "name": "stdout",
     "output_type": "stream",
     "text": [
      "8.245548550396931×10⁻¹⁴ watt/centimeter²/kelvin⁴\n",
      "1.4468502499606157×10⁻¹⁵ watt/centimeter²/kelvin⁴\n"
     ]
    },
    {
     "name": "stderr",
     "output_type": "stream",
     "text": [
      "/var/folders/fz/4mj7qkt17hxfqzw5cc4s9zg80000gn/T/ipykernel_3901/1120612410.py:26: DeprecationWarning: This function will be removed in future versions of pint.\n",
      "Use ureg.formatter.default_format\n",
      "  self._ureg.default_format = \"Lx\"\n",
      "/var/folders/fz/4mj7qkt17hxfqzw5cc4s9zg80000gn/T/ipykernel_3901/1120612410.py:29: DeprecationWarning: This function will be removed in future versions of pint.\n",
      "Use ureg.formatter.default_format\n",
      "  self._ureg.default_format = \"P\"\n"
     ]
    }
   ],
   "source": [
    "table1.setColUnits(\"Tt\", \"degK\")\n",
    "\n",
    "\n",
    "tbl1500 = table1.query(f\"Tt >= @q_for_eval(1700, 'degK')\")\n",
    "\n",
    "# tbl1500.printPretty()\n",
    "\n",
    "eT = [0.209, 0.223, 0.236, 0.249, 0.249, 0.249, 0.249]\n",
    "\n",
    "S = Q(0.36, \"cm**2\")\n",
    "\n",
    "tbl1500.addCol(\"Bolzman\", tbl1500.col(\"W\") / (eT * S * tbl1500.col(\"Tt\") ** 4))\n",
    "\n",
    "tbl1500.toLatex(\n",
    "    \"tex/tables/t2.tex\",\n",
    "    {\n",
    "        \"Tt\": r\"$T$\",\n",
    "        \"Bolzman\": r\"$\\sigma_B$\",\n",
    "    },\n",
    "    float_format=\"%.2E\",\n",
    ")\n",
    "\n",
    "\n",
    "print(np.mean(tbl1500.col(\"Bolzman\")))\n",
    "print(np.std(tbl1500.col(\"Bolzman\")))"
   ]
  },
  {
   "cell_type": "code",
   "execution_count": 69,
   "metadata": {},
   "outputs": [
    {
     "data": {
      "text/html": [
       "5.842850467166115×10<sup>-34</sup> joule second"
      ],
      "text/latex": [
       "$5.842850467166115\\times 10^{-34}\\ \\mathrm{joule} \\cdot \\mathrm{second}$"
      ],
      "text/plain": [
       "<Quantity(5.84285047e-34, 'joule * second')>"
      ]
     },
     "execution_count": 69,
     "metadata": {},
     "output_type": "execute_result"
    }
   ],
   "source": [
    "Bolz = Q(\"8.27*10**-12  watt * cm**(-2) * degK**(-4)\")\n",
    "\n",
    "plank = np.cbrt(\n",
    "    (2 * np.pi**5 * UR.boltzmann_constant**4) / (15 * UR.speed_of_light**2 * Bolz)\n",
    ")\n",
    "\n",
    "# pq = Q(plank.to_root_units().magnitude, \"gram * meter**2 / s\")\n",
    "# pq.to(\"joule*s\")\n",
    "pb = plank.to_base_units()\n",
    "pq = Q(pb.magnitude, str(pb.units))\n",
    "pq.to(\"joule*s\")"
   ]
  },
  {
   "cell_type": "code",
   "execution_count": null,
   "metadata": {},
   "outputs": [],
   "source": [
    "a = -28\n",
    "eT1 = 0.232\n",
    "\n",
    "np.exp(a) / (eT1 * 0.36)"
   ]
  },
  {
   "cell_type": "code",
   "execution_count": 70,
   "metadata": {},
   "outputs": [
    {
     "name": "stdout",
     "output_type": "stream",
     "text": [
      "966.0\n",
      "23.895606290697042\n"
     ]
    }
   ],
   "source": [
    "tp = [930, 942, 967, 1000, 985, 972]\n",
    "\n",
    "print(np.mean(tp))\n",
    "print(np.std(tp))"
   ]
  },
  {
   "cell_type": "code",
   "execution_count": 78,
   "metadata": {},
   "outputs": [
    {
     "data": {
      "text/html": [
       "926.829268292683 delta_degree_Celsius"
      ],
      "text/latex": [
       "$926.829268292683\\ \\mathrm{delta\\_degree\\_Celsius}$"
      ],
      "text/plain": [
       "<Quantity(926.829268, 'delta_degree_Celsius')>"
      ]
     },
     "execution_count": 78,
     "metadata": {},
     "output_type": "execute_result"
    }
   ],
   "source": [
    "va = Q(38, \"mvolt\")\n",
    "p = Q(41, \"mcvolt/degC\")\n",
    "\n",
    "\n",
    "(va / p).to(\"delta_degree_Celsius\")"
   ]
  }
 ],
 "metadata": {
  "kernelspec": {
   "display_name": "Python 3 (ipykernel)",
   "language": "python",
   "name": "python3"
  },
  "language_info": {
   "codemirror_mode": {
    "name": "ipython",
    "version": 3
   },
   "file_extension": ".py",
   "mimetype": "text/x-python",
   "name": "python",
   "nbconvert_exporter": "python",
   "pygments_lexer": "ipython3",
   "version": "3.12.6"
  },
  "vscode": {
   "interpreter": {
    "hash": "7e1998ff7f8aa20ada591c520b972326324e5ea05489af9e422744c7c09f6dad"
   }
  }
 },
 "nbformat": 4,
 "nbformat_minor": 4
}
